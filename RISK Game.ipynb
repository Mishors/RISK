{
 "cells": [
  {
   "cell_type": "code",
   "execution_count": 289,
   "metadata": {},
   "outputs": [],
   "source": [
    "#Graph imports\n",
    "import re\n",
    "import pydot"
   ]
  },
  {
   "cell_type": "code",
   "execution_count": 290,
   "metadata": {},
   "outputs": [],
   "source": [
    "#GUI imports\n",
    "import io\n",
    "import _tkinter\n",
    "import tkinter as tk\n",
    "from tkinter import * \n",
    "from tkinter import ttk\n",
    "from tkinter import filedialog\n",
    "from PIL import Image, ImageTk\n",
    "from IPython.core.display import Image as image"
   ]
  },
  {
   "cell_type": "code",
   "execution_count": 291,
   "metadata": {},
   "outputs": [],
   "source": [
    "def get_risk_graph(file_name):\n",
    "    G = pydot.Dot(graph_type='graph')    \n",
    "    #Assumption max of 6 Partitions\n",
    "    partitions_colors = ['red','yellow','green','blue','violet','pink']\n",
    "    nodes_bonus = {}\n",
    "    file = open(file_name, \"r\")\n",
    "    line_1 = file.readline()\n",
    "    line_1 = re.split(' |\\n',line_1)\n",
    "    line_1.remove('')\n",
    "    n_nodes = int(line_1[0])\n",
    "    n_edges = int(line_1[1])\n",
    "    n_partitions = int(line_1[2])\n",
    "    start_index = 2\n",
    "    for i in range(start_index, start_index + n_nodes):\n",
    "        start_index = i+1\n",
    "        line = file.readline(i)\n",
    "        node_name = re.split(' |\\n',line)\n",
    "        node_name = node_name[0]\n",
    "        node = pydot.Node(node_name, style='filled',shape='circle',fillcolor='pink')\n",
    "        G.add_node(node)\n",
    "    for i in range(start_index, start_index + n_edges):\n",
    "        start_index = i+1\n",
    "        line = file.readline(i)\n",
    "        line = re.split(' |\\n',line)        \n",
    "        node1 = line[0]\n",
    "        node2 = line[1]\n",
    "        edge = pydot.Edge(node1, node2)\n",
    "        G.add_edge(edge)\n",
    "    for i in range(start_index, start_index + n_partitions):\n",
    "        line = file.readline(i)\n",
    "        line = re.split(' |\\n',line)\n",
    "        line.remove('')\n",
    "        bonus_value = int(line[0])\n",
    "        del line[0]        \n",
    "        node_color = partitions_colors[i-start_index]\n",
    "        for node_name in line:\n",
    "            nodes_bonus[node_name] = bonus_value\n",
    "            node = G.get_node(node_name)            \n",
    "            node[0].set_fillcolor(node_color)           \n",
    "    file.close()\n",
    "    return (G,nodes_bonus)"
   ]
  },
  {
   "cell_type": "code",
   "execution_count": 292,
   "metadata": {},
   "outputs": [
    {
     "data": {
      "text/plain": [
       "''"
      ]
     },
     "execution_count": 292,
     "metadata": {},
     "output_type": "execute_result"
    }
   ],
   "source": [
    "#Initializing root frame \n",
    "root=tk.Tk()\n",
    "root.title(\"RISK\")"
   ]
  },
  {
   "cell_type": "code",
   "execution_count": 293,
   "metadata": {},
   "outputs": [],
   "source": [
    "#Initializaing Global Variables Game\n",
    "current_player = 1\n",
    "## Globals of place frame\n",
    "place_list = [\"1\",\"2\",\"3\",\"4\",\"5\",\"6\",\"7\",\"8\",\"9\",\"10\",\"11\",\"12\"]\n",
    "player_str = StringVar()\n",
    "stage_str = StringVar()\n",
    "countries_str = StringVar()\n",
    "troops_str = StringVar()\n",
    "bonus_str = StringVar()\n",
    "place_str = StringVar()\n",
    "control_frame = ttk.Frame(root)\n",
    "attack_frame = ttk.Frame(root)\n",
    "## Globals of attack frame\n",
    "attack_list = [\"1\",\"2\",\"3\",\"4\",\"5\",\"6\",\"7\",\"8\",\"9\",\"10\",\"11\",\"12\"]\n",
    "attack_str = StringVar()"
   ]
  },
  {
   "cell_type": "code",
   "execution_count": 294,
   "metadata": {},
   "outputs": [],
   "source": [
    "#Initializaing Global Variables\n",
    "countries = 0 \n",
    "troops = 0\n",
    "bonus = 0"
   ]
  },
  {
   "cell_type": "code",
   "execution_count": 295,
   "metadata": {},
   "outputs": [],
   "source": [
    "#Initializaing Global Variables Player 1\n",
    "countries_1 = []\n",
    "troops_1 = {}\n",
    "bonus_1 = 0"
   ]
  },
  {
   "cell_type": "code",
   "execution_count": 296,
   "metadata": {},
   "outputs": [],
   "source": [
    "#Initializaing Global Variables Player 2\n",
    "countries_2 = []\n",
    "troops_2 = {}\n",
    "bonus_2 = 0"
   ]
  },
  {
   "cell_type": "code",
   "execution_count": 297,
   "metadata": {},
   "outputs": [],
   "source": [
    "#Allowing expansion with scale\n",
    "root.columnconfigure(0,weight=1)\n",
    "root.columnconfigure(1,weight=1)\n",
    "root.columnconfigure(2,weight=1)\n",
    "root.columnconfigure(3,weight=1)\n",
    "root.rowconfigure(0,weight=1)"
   ]
  },
  {
   "cell_type": "code",
   "execution_count": 298,
   "metadata": {
    "scrolled": true
   },
   "outputs": [],
   "source": [
    "#Load Game File\n",
    "file_name = filedialog.askopenfilename(filetypes = ((\"Text files\",\"*.txt\"),(\"All files\",\"*.*\")))\n",
    "G,nodes_bonus = get_risk_graph(file_name)"
   ]
  },
  {
   "cell_type": "code",
   "execution_count": 299,
   "metadata": {},
   "outputs": [],
   "source": [
    "#Design the screen - graph frame\n",
    "graph_frame = ttk.Frame(root)\n",
    "graph_frame.config(width = 600, height = 800, relief = RIDGE)\n",
    "graph_frame.grid(row=0,column=0,columnspan=2)"
   ]
  },
  {
   "cell_type": "code",
   "execution_count": 300,
   "metadata": {},
   "outputs": [],
   "source": [
    "def build_ctrl_frame():\n",
    "    global control_frame\n",
    "    global current_player\n",
    "    #Design the screen - control frame\n",
    "    control_frame = ttk.Frame(root)\n",
    "    control_frame.config(width = 300, height = 800)\n",
    "    control_frame.grid(row=0,column=2,columnspan=2)\n",
    "    #Components inside control frame - Placement mode \n",
    "    player_label = Label(control_frame, font=\"Times 18\", textvariable = player_str)\n",
    "    player_str.set(\"Player \" + str(current_player))\n",
    "    player_label.pack()\n",
    "    stage_label = Label(control_frame,font=\"Times 18\", textvariable = stage_str)\n",
    "    stage_str.set(\"Troop Placement\")\n",
    "    stage_label.pack()\n",
    "    countries_label = Label(control_frame,font=\"Times 14\", textvariable = countries_str)\n",
    "    countries_str.set(\"Countries = \" + str(countries))\n",
    "    countries_label.pack()\n",
    "    troops_label = Label(control_frame,font=\"Times 14\", textvariable = troops_str)\n",
    "    troops_str.set(\"Troops = \" + str(troops))\n",
    "    troops_label.pack()\n",
    "    bonus_label = Label(control_frame,font=\"Times 14\", textvariable = bonus_str)\n",
    "    bonus_str.set(\"Bonus = \" + str(bonus))\n",
    "    bonus_label.pack()\n",
    "    choose_label = Label(control_frame, text=\"Choose Country to Place Troops\", font=\"Times 12\")\n",
    "    choose_label.pack()\n",
    "    place_str.set(place_list[0]) \n",
    "    place_menu = OptionMenu(control_frame, place_str, *place_list)\n",
    "    place_menu.pack()\n",
    "    place_button = tk.Button(control_frame, text=\"Place Troops\",command=lambda: show_attack_frame())\n",
    "    place_button.pack()"
   ]
  },
  {
   "cell_type": "code",
   "execution_count": 301,
   "metadata": {},
   "outputs": [],
   "source": [
    "def build_attack_frame():\n",
    "    global attack_frame\n",
    "    global current_player\n",
    "    #Design the screen - attack frame\n",
    "    attack_frame = ttk.Frame(root)\n",
    "    attack_frame.config(width = 300, height = 800)\n",
    "    attack_frame.grid(row=0,column=2,columnspan=2)\n",
    "    #Components inside control frame - Placement mode \n",
    "    player_label = Label(attack_frame, font=\"Times 18\", textvariable = player_str)\n",
    "    player_str.set(\"Player \" + str(current_player))\n",
    "    player_label.pack()\n",
    "    stage_label = Label(attack_frame,font=\"Times 18\", textvariable = stage_str)\n",
    "    stage_str.set(\"Attacking\")\n",
    "    stage_label.pack()\n",
    "    countries_label = Label(attack_frame,font=\"Times 14\", textvariable = countries_str)\n",
    "    countries_str.set(\"Countries = \" + str(countries))\n",
    "    countries_label.pack()\n",
    "    troops_label = Label(attack_frame,font=\"Times 14\", textvariable = troops_str)\n",
    "    troops_str.set(\"Troops = \" + str(troops))\n",
    "    troops_label.pack()\n",
    "    choose_label = Label(attack_frame, text=\"Choose Attacking country\", font=\"Times 12\")\n",
    "    choose_label.pack()\n",
    "    attack_str.set(attack_list[0]) \n",
    "    attack_menu = OptionMenu(attack_frame, attack_str, *attack_list)\n",
    "    attack_menu.pack()\n",
    "    attack_button = tk.Button(attack_frame, text=\"Attack\",command=lambda: show_control())\n",
    "    attack_button.pack()\n",
    "    skip_button = tk.Button(attack_frame, text=\"Skip\",command=lambda: show_control())\n",
    "    skip_button.pack()"
   ]
  },
  {
   "cell_type": "code",
   "execution_count": 302,
   "metadata": {},
   "outputs": [],
   "source": [
    "def show_control():\n",
    "    global attack_frame\n",
    "    attack_frame.grid_forget()\n",
    "    build_ctrl_frame()    "
   ]
  },
  {
   "cell_type": "code",
   "execution_count": 303,
   "metadata": {},
   "outputs": [],
   "source": [
    "def show_attack_frame():\n",
    "    global control_frame\n",
    "    control_frame.grid_forget()\n",
    "    build_attack_frame()    "
   ]
  },
  {
   "cell_type": "code",
   "execution_count": 304,
   "metadata": {},
   "outputs": [],
   "source": [
    "#Start Building Ctrl Frame\n",
    "build_ctrl_frame()"
   ]
  },
  {
   "cell_type": "code",
   "execution_count": 305,
   "metadata": {
    "scrolled": true
   },
   "outputs": [],
   "source": [
    "#Show the main Graph of the Game\n",
    "pilimg = Image.open(io.BytesIO(G.create_png()))\n",
    "image_tk = ImageTk.PhotoImage(pilimg, master = graph_frame)\n",
    "label = tk.Label(root, text = 'Input Image', image = image_tk, background = 'white')\n",
    "label.image = image_tk\n",
    "label.grid(row=0, column=0, sticky=\"snew\", columnspan=2)"
   ]
  },
  {
   "cell_type": "code",
   "execution_count": 306,
   "metadata": {},
   "outputs": [],
   "source": [
    "root.mainloop()"
   ]
  },
  {
   "cell_type": "code",
   "execution_count": null,
   "metadata": {},
   "outputs": [],
   "source": []
  }
 ],
 "metadata": {
  "kernelspec": {
   "display_name": "Python 3",
   "language": "python",
   "name": "python3"
  },
  "language_info": {
   "codemirror_mode": {
    "name": "ipython",
    "version": 3
   },
   "file_extension": ".py",
   "mimetype": "text/x-python",
   "name": "python",
   "nbconvert_exporter": "python",
   "pygments_lexer": "ipython3",
   "version": "3.6.5"
  }
 },
 "nbformat": 4,
 "nbformat_minor": 2
}
